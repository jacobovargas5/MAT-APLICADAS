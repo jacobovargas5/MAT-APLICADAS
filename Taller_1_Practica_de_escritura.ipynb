{
  "nbformat": 4,
  "nbformat_minor": 0,
  "metadata": {
    "colab": {
      "provenance": [],
      "include_colab_link": true
    },
    "kernelspec": {
      "name": "python3",
      "display_name": "Python 3"
    },
    "language_info": {
      "name": "python"
    }
  },
  "cells": [
    {
      "cell_type": "markdown",
      "metadata": {
        "id": "view-in-github",
        "colab_type": "text"
      },
      "source": [
        "<a href=\"https://colab.research.google.com/github/jacobovargas5/MAT-APLICADAS/blob/main/Taller_1_Practica_de_escritura.ipynb\" target=\"_parent\"><img src=\"https://colab.research.google.com/assets/colab-badge.svg\" alt=\"Open In Colab\"/></a>"
      ]
    },
    {
      "cell_type": "markdown",
      "source": [
        "<font color = \"Purple\" size = \"10\"> Taller #1_Practica de escritura </font>\n",
        "$$$$\n",
        "<font color = \"red\" size = \"4\"> Integrantes: </font>\n",
        "* Alejandra Ruiz - A00412715\n",
        "* Andrés Fajardo - A00411298\n",
        "* Jacobo Vargas - A00404722\n",
        "$$$$\n",
        "\n",
        "Punto 1\n",
        "\n",
        "* 1.Area lateral de un cilindro: $r = \\frac{A}{2 \\pi g}$\n",
        "$$$$\n",
        "* 2.Volumen del cono: $h = \\frac {3V}{Ab}$\n",
        "$$$$\n",
        "* 3.Volumen de la esfera: $r = r = \\frac {\\sqrt [3]{3V}}{4 \\pi }$\n",
        "$$$$\n",
        "* 4.Area del trapecio: $h = \\frac {2A}{B+b}$\n",
        "$$$$\n",
        "* 5.Intensidad electrica: $t = \\frac {q}{I}$\n",
        "$$$$\n",
        "* 6.Ley de Ohm: $R = \\frac {V}{I}$\n",
        "$$$$\n",
        "* 7.Energia electrica: $t = \\frac {ER}{V^2}$\n",
        "$$$$\n",
        "* 8.Resistencias en paralelo: $R = \\frac {1}{\\frac {1}{R_1} + \\frac {1}{R_2}}$\n",
        "$$$$\n",
        "* 9.Ecuacion gases perfectos: $P_f = \\frac{P_0V_0T_f}{T_0V_f}$\n",
        "$$$$\n",
        "* 10.Intensidad electrica: $V_B = V_A- IR$"
      ],
      "metadata": {
        "id": "qIwE9QsXyWlv"
      }
    },
    {
      "cell_type": "code",
      "source": [
        "print(\"Punto 2, operaciones\")\n",
        "print(\"Ejercicio 1\")\n",
        "operacion1 = (3*(10 - 5 - 5) -2 *(10 -2 -4))**2\n",
        "print(operacion1)\n",
        "\n",
        "print(\"Ejercicio 2\")\n",
        "operacion2 = 45+(3*(2+8 )-8/4) +10 -83\n",
        "print(operacion2)\n",
        "\n",
        "print(\"Ejercicio3\")\n",
        "operacion3 = ((7-4)*2-10)*(-4 -7 -3)\n",
        "print(operacion3)"
      ],
      "metadata": {
        "colab": {
          "base_uri": "https://localhost:8080/"
        },
        "id": "cj6sFph27wjm",
        "outputId": "2680f960-cf7e-4ca0-814d-b0a3f830ed53"
      },
      "execution_count": null,
      "outputs": [
        {
          "output_type": "stream",
          "name": "stdout",
          "text": [
            "Punto 2, operaciones\n",
            "Ejercicio 1\n",
            "64\n",
            "Ejercicio 2\n",
            "0.0\n",
            "Ejercicio3\n",
            "56\n"
          ]
        }
      ]
    },
    {
      "cell_type": "markdown",
      "source": [
        "Punto 3\n",
        "\n",
        "$\\frac{1}{5}[(\\frac{1}{2})^2+(\\frac{3}{4})^2]+\\frac{10}{25}[(\\frac{1}{2})^2+(\\frac{3}{4})^2]+\\frac{8}{40}[(\\frac{1}{2})^2+(\\frac{3}{4})^2]$"
      ],
      "metadata": {
        "id": "oSmrw014Zzs0"
      }
    },
    {
      "cell_type": "code",
      "source": [
        "1/5*((1/2)**2+(3/4)**2)+10/25*((1/2)**2+(3/4)**2)+8/40*((1/2)**2+(3/4)**2)"
      ],
      "metadata": {
        "colab": {
          "base_uri": "https://localhost:8080/"
        },
        "id": "ftV-4ZcUZ3Aw",
        "outputId": "5f898396-28f6-40ed-c425-edcf9545dfd0"
      },
      "execution_count": null,
      "outputs": [
        {
          "output_type": "execute_result",
          "data": {
            "text/plain": [
              "0.65"
            ]
          },
          "metadata": {},
          "execution_count": 2
        }
      ]
    },
    {
      "cell_type": "markdown",
      "source": [
        "$\\frac{9}{4}(\\frac{6}{8})^-1-\\frac{5}{2}(\\frac{25}{20})^-1+\\frac{40}{8}(\\frac{20}{16})^-1$"
      ],
      "metadata": {
        "id": "tHPUQ6iiZ-5I"
      }
    },
    {
      "cell_type": "code",
      "source": [
        "int(9/4*((6/8)**-1)-5/2*((25/20)**-1)+40/8*((20/16)**-1))"
      ],
      "metadata": {
        "colab": {
          "base_uri": "https://localhost:8080/"
        },
        "id": "mgfWP6_yaFJH",
        "outputId": "3a333829-ee01-4539-b006-03669a6f07ed"
      },
      "execution_count": null,
      "outputs": [
        {
          "output_type": "execute_result",
          "data": {
            "text/plain": [
              "5"
            ]
          },
          "metadata": {},
          "execution_count": 3
        }
      ]
    },
    {
      "cell_type": "code",
      "source": [
        "print(\"Bienvenido, ayudame a calcular tu IMC\")\n",
        "nombre = input(\"Cómo te llamas?\")\n",
        "peso = float(input(f\"{nombre}, ingresa por favor tu peso en kilogramos\"))\n",
        "altura = float(input(f\"{nombre} ,ingresa por favor tu altura en metros\"))\n",
        "print(\"Sabiendoq que la formula para calcular el IMC es= Peso(kg)/Altura^2\")\n",
        "imc = peso / (altura ** 2)\n",
        "print(f\"Tu IMC actual es: {imc}\")\n"
      ],
      "metadata": {
        "colab": {
          "base_uri": "https://localhost:8080/"
        },
        "id": "bKbijw9j_sUx",
        "outputId": "2668730e-019e-4dcf-e1df-562d6d639d88"
      },
      "execution_count": null,
      "outputs": [
        {
          "output_type": "stream",
          "name": "stdout",
          "text": [
            "Bienvenido, ayudame a calcular tu IMC\n",
            "Cómo te llamas?Andres Fajardo\n",
            "Andres Fajardo, ingresa por favor tu peso en kilogramos95\n",
            "Andres Fajardo ,ingresa por favor tu altura en metros1.75\n",
            "Sabiendoq que la formula para calcular el IMC es= Peso(kg)/Altura^2\n",
            "Tu IMC actual es: 31.020408163265305\n"
          ]
        }
      ]
    },
    {
      "cell_type": "code",
      "source": [
        "nombre = input(\"Cómo te llamas?\")\n",
        "print(\"Vamos a necesitar dos numeros para sumarlos, restarlos, dividirlos y multiplicarlos\")\n",
        "n1 = int(input(f\"{nombre}, ingresa por favor el primer numero que quieres operar\"))\n",
        "n2 = int(input(f\"{nombre} ,ingresa por favor el segundo numero que quiers operar\"))\n",
        "def suma (n1,n2):\n",
        "    sum = n1 + n2\n",
        "    return sum\n",
        "print(suma(n1,n2))\n",
        "\n",
        "def resta (n1,n2):\n",
        "    rest = n1 - n2\n",
        "    return rest\n",
        "print(resta(n1,n2))\n",
        "\n",
        "def multiplicacion (n1,n2):\n",
        "    times = n1 * n2\n",
        "    return times\n",
        "print(multiplicacion(n1,n2))\n",
        "\n",
        "def division (n1,n2):\n",
        "    div = n1 / n2\n",
        "    return div\n",
        "print(division(n1,n2))"
      ],
      "metadata": {
        "colab": {
          "base_uri": "https://localhost:8080/"
        },
        "id": "WuevjLIb2m4h",
        "outputId": "a7e5723d-fafd-4b00-b272-e02714d5d144"
      },
      "execution_count": null,
      "outputs": [
        {
          "output_type": "stream",
          "name": "stdout",
          "text": [
            "Cómo te llamas?Andres\n",
            "Vamos a necesitar dos numeros para sumarlos, restarlos, dividirlos y multiplicarlos\n",
            "Andres, ingresa por favor el primer numero que quieres operar2\n",
            "Andres ,ingresa por favor el segundo numero que quiers operar2\n",
            "4\n",
            "0\n",
            "4\n",
            "1.0\n"
          ]
        }
      ]
    },
    {
      "cell_type": "code",
      "source": [
        "precio_barril_petroleo = [309200,276200,276200,278200,284500,280400,346300]\n",
        "precio_barril_cocacola = []\n",
        "litro_cocacola = 4000\n",
        "coca_barril_litros = 159\n",
        "coca_barril = litro_cocacola * coca_barril_litros\n",
        "precio_barril_cocacola.append(coca_barril)\n",
        "print(precio_barril_cocacola)\n",
        "\n",
        "for i in precio_barril_petroleo:\n",
        "    print(f\"Comparemos el precio de barriles de petroleo en 7 dias con el precio del equivalente a un barril de cocacola{[i]} vs {precio_barril_cocacola}\")\n",
        "\n",
        "print(\"Conclusio: Aún comparando el precio del barril de cocacola con el precio del barril de petroleo, el precio de barril de cocacola lo supera por mucho lo que significa que es mucho mas costoso \")"
      ],
      "metadata": {
        "colab": {
          "base_uri": "https://localhost:8080/"
        },
        "id": "Upe2XfvPXeqG",
        "outputId": "9d1c1fa7-7f3e-4a20-ac45-b610dea5f8b0"
      },
      "execution_count": null,
      "outputs": [
        {
          "output_type": "stream",
          "name": "stdout",
          "text": [
            "[636000]\n",
            "Comparemos el precio de barriles de petroleo en 7 dias con el precio del equivalente a un barril de cocacola[309200] vs [636000]\n",
            "Comparemos el precio de barriles de petroleo en 7 dias con el precio del equivalente a un barril de cocacola[276200] vs [636000]\n",
            "Comparemos el precio de barriles de petroleo en 7 dias con el precio del equivalente a un barril de cocacola[276200] vs [636000]\n",
            "Comparemos el precio de barriles de petroleo en 7 dias con el precio del equivalente a un barril de cocacola[278200] vs [636000]\n",
            "Comparemos el precio de barriles de petroleo en 7 dias con el precio del equivalente a un barril de cocacola[284500] vs [636000]\n",
            "Comparemos el precio de barriles de petroleo en 7 dias con el precio del equivalente a un barril de cocacola[280400] vs [636000]\n",
            "Comparemos el precio de barriles de petroleo en 7 dias con el precio del equivalente a un barril de cocacola[346300] vs [636000]\n",
            "Conclusio: Aún comparando el precio del barril de cocacola con el precio del barril de petroleo, el precio de barril de cocacola lo supera por mucho lo que significa que es mucho mas costoso \n"
          ]
        }
      ]
    },
    {
      "cell_type": "markdown",
      "source": [
        "|Dias|Barril_petroleo|Barril_cocacola|\n",
        "|----|---------------|---------------|\n",
        "|1|309200|636000|\n",
        "|2|276200|636000|\n",
        "|3|276200|636000|\n",
        "|4|278200|636000|\n",
        "|5|284500|636000|\n",
        "|6|280400|636000|\n",
        "|7|346300|636000|\n",
        "\n",
        "<font color = blue size = 6> Conclusión: </font>\n",
        ">Aun comparando el precio del barril de cocacola con el precio del barril de petroleo más alto, el precio del barril de cocacola lo supera por mucho lo que significa que es más costoso un litro de cocacola que un litro de petroleo"
      ],
      "metadata": {
        "id": "bUNRbuHJXu7k"
      }
    },
    {
      "cell_type": "markdown",
      "source": [],
      "metadata": {
        "id": "rIMQUclMYe1u"
      }
    }
  ]
}