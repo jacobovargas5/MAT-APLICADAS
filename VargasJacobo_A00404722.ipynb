{
  "nbformat": 4,
  "nbformat_minor": 0,
  "metadata": {
    "colab": {
      "provenance": [],
      "authorship_tag": "ABX9TyMB+kU5HMVz2Mk78h/3xZw7",
      "include_colab_link": true
    },
    "kernelspec": {
      "name": "python3",
      "display_name": "Python 3"
    },
    "language_info": {
      "name": "python"
    }
  },
  "cells": [
    {
      "cell_type": "markdown",
      "metadata": {
        "id": "view-in-github",
        "colab_type": "text"
      },
      "source": [
        "<a href=\"https://colab.research.google.com/github/jacobovargas5/MAT-APLICADAS/blob/main/VargasJacobo_A00404722.ipynb\" target=\"_parent\"><img src=\"https://colab.research.google.com/assets/colab-badge.svg\" alt=\"Open In Colab\"/></a>"
      ]
    },
    {
      "cell_type": "markdown",
      "source": [
        "1. $$ a^2 + b^2 = c^2 $$ Teorema de pitagoras\n",
        "\n",
        "2. $$ \\log(xy) = \\log x + \\log y $$ John napier, 1610\n",
        "\n",
        "3. $$ \\frac{df}{dt} = \\lim_{h \\to 0} \\frac{f(t+h) - f(t)}{h} $$ Newton 1668\n",
        "\n",
        "4. $$ F = G \\frac{m_1 m_2}{r^2} $$ Newton 1687\n",
        "\n",
        "5.  $$ i^2 = -1 $$ Euler, 1750\n",
        "\n",
        "6. $$ V - E + F = 2 $$ Euler, 1751\n",
        "\n",
        "7. $$ \\Phi(x) = \\frac{1}{\\sqrt{2\\pi} \\sigma} e^{\\frac{-(x-\\mu)^2}{2\\sigma^2}} $$ C.F Gauss 1810\n",
        "\n",
        "8. $$ \\frac{\\partial^2 u}{\\partial t^2} = c^2 \\frac{\\partial^2 u}{\\partial x^2} $$ Jd Almbert 1746\n",
        "\n",
        "\n",
        "9. $$ f(\\omega) = \\int_{-\\infty}^{\\infty} f(x)e^{-2\\pi i \\omega x}dx $$ J. Fourier 1822\n",
        "\n",
        "10. $$ \\rho \\left(\\frac{\\partial v}{\\partial t} + v \\cdot \\nabla v \\right) = - \\nabla p + \\mu \\nabla^2 v + f $$ C, Navier , G Stokes 1845\n",
        "\n",
        "11.  $$ \\nabla \\cdot E = 0 $$  \n",
        "   $$ \\nabla \\cdot H = 0 $$  \n",
        "   $$ \\nabla \\times E = - \\frac{1}{c} \\frac{\\partial H}{\\partial t} $$  \n",
        "   $$ \\nabla \\times H = \\frac{1}{c} \\frac{\\partial E}{\\partial t} $$ J.C Maxwell 1865\n",
        "\n",
        "12. $$ dS \\geq 0 $$ L. Boltzmann 1874\n",
        "\n",
        "13.  $$ E = mc^2 $$ Einstein 1905\n",
        "\n",
        "14. $$ i\\hbar \\frac{\\partial \\psi}{\\partial t} = H \\psi $$ Schrodinger 1927\n",
        "\n",
        "15. $$ H = - \\sum p(x) \\log p(x) $$ Shannon, 1949\n",
        "\n",
        "16. $$ x_{t+1} = k x_t (1 - x_t) $$ Robert May 1975\n",
        "\n",
        "17. $$ \\frac{1}{2} \\sigma^2 S^2 \\frac{\\partial^2 V}{\\partial S^2} + rS \\frac{\\partial V}{\\partial S} + \\frac{\\partial V}{\\partial t} - rV = 0 $$ 1990\n",
        "\n",
        "\n",
        "\n",
        "\n",
        "\n",
        "\n",
        "\n",
        "\n",
        "\n",
        "\n",
        "\n",
        "\n",
        "\n",
        "\n",
        "\n",
        "\n",
        "\n",
        "\n",
        "\n",
        "\n",
        "\n",
        "\n",
        "\n",
        "\n"
      ],
      "metadata": {
        "id": "JwsXiTnI4uvC"
      }
    },
    {
      "cell_type": "code",
      "source": [
        "input"
      ],
      "metadata": {
        "id": "4tySdC28CegE"
      },
      "execution_count": null,
      "outputs": []
    }
  ]
}